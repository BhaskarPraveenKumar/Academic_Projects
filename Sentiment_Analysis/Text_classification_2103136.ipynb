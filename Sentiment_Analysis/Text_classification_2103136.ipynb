{
 "cells": [
  {
   "cell_type": "markdown",
   "metadata": {},
   "source": [
    "# Loading Libraries"
   ]
  },
  {
   "cell_type": "code",
   "execution_count": 1,
   "metadata": {},
   "outputs": [],
   "source": [
    "# utilities\n",
    "import pandas as pd\n",
    "import numpy as np\n",
    "import regex as re\n",
    "import pickle\n",
    "#NLTK Library\n",
    "import nltk\n",
    "from nltk.corpus import stopwords\n",
    "from nltk.stem import WordNetLemmatizer\n",
    "from nltk.sentiment.vader import SentimentIntensityAnalyzer\n",
    "import spacy\n",
    "# Sklearn\n",
    "from sklearn.model_selection import train_test_split\n",
    "from sklearn.metrics import accuracy_score\n",
    "from sklearn.metrics import confusion_matrix\n",
    "from sklearn.metrics import classification_report\n",
    "from sklearn.feature_extraction.text import TfidfVectorizer\n",
    "from sklearn.svm import LinearSVC\n",
    "from sklearn.pipeline import Pipeline\n",
    "# Plotting\n",
    "import seaborn as sns\n",
    "import matplotlib.pyplot as plt\n",
    "from wordcloud import WordCloud"
   ]
  },
  {
   "cell_type": "markdown",
   "metadata": {},
   "source": [
    "# Reading the Data"
   ]
  },
  {
   "cell_type": "code",
   "execution_count": 2,
   "metadata": {},
   "outputs": [
    {
     "data": {
      "text/plain": [
       "<bound method NDFrame.describe of                                                   review sentiment\n",
       "0      One of the other reviewers has mentioned that ...  positive\n",
       "1      A wonderful little production. <br /><br />The...  positive\n",
       "2      I thought this was a wonderful way to spend ti...  positive\n",
       "3      Basically there's a family where a little boy ...  negative\n",
       "4      Petter Mattei's \"Love in the Time of Money\" is...  positive\n",
       "...                                                  ...       ...\n",
       "49995  I thought this movie did a down right good job...  positive\n",
       "49996  Bad plot, bad dialogue, bad acting, idiotic di...  negative\n",
       "49997  I am a Catholic taught in parochial elementary...  negative\n",
       "49998  I'm going to have to disagree with the previou...  negative\n",
       "49999  No one expects the Star Trek movies to be high...  negative\n",
       "\n",
       "[50000 rows x 2 columns]>"
      ]
     },
     "execution_count": 2,
     "metadata": {},
     "output_type": "execute_result"
    }
   ],
   "source": [
    "df = pd.read_csv('IMDB Dataset.csv')\n",
    "df.describe"
   ]
  },
  {
   "cell_type": "markdown",
   "metadata": {},
   "source": [
    "### Summary of the dataset\n",
    "- There are 2 features: review & sentiment\n",
    "- Review consists of 50000 instances (reviews)\n",
    "- Among which 25000 are positive and 25000 are negative, so consequently it's a balanced dataset\n",
    "- Moreover there are no null values"
   ]
  },
  {
   "cell_type": "markdown",
   "metadata": {},
   "source": [
    "### Text Pre-Processing\n",
    "**Pre-Processing steps are as follows:** \n",
    "* **Lower casing the reviews**: First each words are converted into tokens and then to lowercase\n",
    "* **Removing special characters**: Here all the special characters are removed, only retaining the words and digits\n",
    "* **Removing stop words**: It doesnt add much weightage to the text classification as well as meaning to the sentence\n",
    "* **Lemmatizing**: It is the process of comverting all the words to its base form (eg:drinking to drink)"
   ]
  },
  {
   "cell_type": "code",
   "execution_count": 4,
   "metadata": {},
   "outputs": [],
   "source": [
    "clean_review = []\n",
    "for words in range(0,len(df['review'])) :\n",
    "    texts = re.sub('[^a-zA-Z0-9]', ' ', df['review'][words])   # remove ounctuations\n",
    "    #review = [words.lower() for words in df['review'][words] if words not in strin.punctuation]\n",
    "    texts = texts.lower() # convert into lower case\n",
    "    texts = nltk.word_tokenize(texts) # splitting the sentences into words\n",
    "    texts = [WordNetLemmatizer().lemmatize(words) for words in texts if words not in stopwords.words('english')]\n",
    "    texts = ' '.join(texts)\n",
    "    clean_review.append(texts) # Finally appending the cleaned data to separate list"
   ]
  },
  {
   "cell_type": "code",
   "execution_count": 5,
   "metadata": {},
   "outputs": [],
   "source": [
    "# since I've appended the clean review to the list and now again converting it into dataframe"
   ]
  },
  {
   "cell_type": "code",
   "execution_count": 6,
   "metadata": {},
   "outputs": [],
   "source": [
    "df = pd.DataFrame( {'review' : clean_review,  'sentiment' : df['sentiment'] } )"
   ]
  },
  {
   "cell_type": "code",
   "execution_count": 7,
   "metadata": {},
   "outputs": [],
   "source": [
    "# Analysing the pre-processed data for polarity scores"
   ]
  },
  {
   "cell_type": "code",
   "execution_count": 8,
   "metadata": {},
   "outputs": [],
   "source": [
    "sid = SentimentIntensityAnalyzer()"
   ]
  },
  {
   "cell_type": "code",
   "execution_count": 9,
   "metadata": {},
   "outputs": [],
   "source": [
    "df['scores'] = df['review'].apply(lambda review : sid.polarity_scores(review))"
   ]
  },
  {
   "cell_type": "code",
   "execution_count": 10,
   "metadata": {},
   "outputs": [],
   "source": [
    "df['compound'] = df['scores'].apply(lambda d:d['compound'])"
   ]
  },
  {
   "cell_type": "code",
   "execution_count": 11,
   "metadata": {},
   "outputs": [],
   "source": [
    "df['com_score'] = df['compound'].apply(lambda score : 'positive' if score >= 0 else 'negative')"
   ]
  },
  {
   "cell_type": "code",
   "execution_count": 12,
   "metadata": {},
   "outputs": [
    {
     "data": {
      "text/html": [
       "<div>\n",
       "<style scoped>\n",
       "    .dataframe tbody tr th:only-of-type {\n",
       "        vertical-align: middle;\n",
       "    }\n",
       "\n",
       "    .dataframe tbody tr th {\n",
       "        vertical-align: top;\n",
       "    }\n",
       "\n",
       "    .dataframe thead th {\n",
       "        text-align: right;\n",
       "    }\n",
       "</style>\n",
       "<table border=\"1\" class=\"dataframe\">\n",
       "  <thead>\n",
       "    <tr style=\"text-align: right;\">\n",
       "      <th></th>\n",
       "      <th>review</th>\n",
       "      <th>sentiment</th>\n",
       "      <th>scores</th>\n",
       "      <th>compound</th>\n",
       "      <th>com_score</th>\n",
       "    </tr>\n",
       "  </thead>\n",
       "  <tbody>\n",
       "    <tr>\n",
       "      <th>0</th>\n",
       "      <td>one reviewer mentioned watching 1 oz episode h...</td>\n",
       "      <td>positive</td>\n",
       "      <td>{'neg': 0.304, 'neu': 0.583, 'pos': 0.113, 'co...</td>\n",
       "      <td>-0.9921</td>\n",
       "      <td>negative</td>\n",
       "    </tr>\n",
       "    <tr>\n",
       "      <th>1</th>\n",
       "      <td>wonderful little production br br filming tech...</td>\n",
       "      <td>positive</td>\n",
       "      <td>{'neg': 0.074, 'neu': 0.66, 'pos': 0.266, 'com...</td>\n",
       "      <td>0.9606</td>\n",
       "      <td>positive</td>\n",
       "    </tr>\n",
       "    <tr>\n",
       "      <th>2</th>\n",
       "      <td>thought wonderful way spend time hot summer we...</td>\n",
       "      <td>positive</td>\n",
       "      <td>{'neg': 0.147, 'neu': 0.544, 'pos': 0.309, 'co...</td>\n",
       "      <td>0.9604</td>\n",
       "      <td>positive</td>\n",
       "    </tr>\n",
       "    <tr>\n",
       "      <th>3</th>\n",
       "      <td>basically family little boy jake think zombie ...</td>\n",
       "      <td>negative</td>\n",
       "      <td>{'neg': 0.219, 'neu': 0.655, 'pos': 0.127, 'co...</td>\n",
       "      <td>-0.9061</td>\n",
       "      <td>negative</td>\n",
       "    </tr>\n",
       "    <tr>\n",
       "      <th>4</th>\n",
       "      <td>petter mattei love time money visually stunnin...</td>\n",
       "      <td>positive</td>\n",
       "      <td>{'neg': 0.029, 'neu': 0.71, 'pos': 0.261, 'com...</td>\n",
       "      <td>0.9887</td>\n",
       "      <td>positive</td>\n",
       "    </tr>\n",
       "  </tbody>\n",
       "</table>\n",
       "</div>"
      ],
      "text/plain": [
       "                                              review sentiment  \\\n",
       "0  one reviewer mentioned watching 1 oz episode h...  positive   \n",
       "1  wonderful little production br br filming tech...  positive   \n",
       "2  thought wonderful way spend time hot summer we...  positive   \n",
       "3  basically family little boy jake think zombie ...  negative   \n",
       "4  petter mattei love time money visually stunnin...  positive   \n",
       "\n",
       "                                              scores  compound com_score  \n",
       "0  {'neg': 0.304, 'neu': 0.583, 'pos': 0.113, 'co...   -0.9921  negative  \n",
       "1  {'neg': 0.074, 'neu': 0.66, 'pos': 0.266, 'com...    0.9606  positive  \n",
       "2  {'neg': 0.147, 'neu': 0.544, 'pos': 0.309, 'co...    0.9604  positive  \n",
       "3  {'neg': 0.219, 'neu': 0.655, 'pos': 0.127, 'co...   -0.9061  negative  \n",
       "4  {'neg': 0.029, 'neu': 0.71, 'pos': 0.261, 'com...    0.9887  positive  "
      ]
     },
     "execution_count": 12,
     "metadata": {},
     "output_type": "execute_result"
    }
   ],
   "source": [
    "df.head()"
   ]
  },
  {
   "cell_type": "markdown",
   "metadata": {},
   "source": [
    "### Summary of Sentiment Analysis\n",
    "* Let’s explore using VADER (Valence Aware Dictionary for Sentiment Reasoning) with NLTKVADER is a model used for text sentiment analysis that is sensitive to both polarity (positive, negative) and intensity of emotion. The sentiment score of a text can be obtained by summing up the intensity of each word in a text. Now I’ve computed a polarity score which gives a dictionary of four words (negative, positive, neutral, compound). Compound Score is nothing but the normalisation of positive, negative, and neutral score. Here most of compound score matches with truth label."
   ]
  },
  {
   "cell_type": "code",
   "execution_count": 13,
   "metadata": {},
   "outputs": [],
   "source": [
    "# extracting the maximum and average length of sentences for each review"
   ]
  },
  {
   "cell_type": "code",
   "execution_count": 14,
   "metadata": {},
   "outputs": [],
   "source": [
    "#sents = ' '\n",
    "#for sent in df['review']:\n",
    "#    sents = sent + sents"
   ]
  },
  {
   "cell_type": "code",
   "execution_count": 15,
   "metadata": {},
   "outputs": [],
   "source": [
    "# counting the number of words\n",
    "df['word_count'] = df[\"review\"].apply(lambda x: len(str(x).split(\" \")))"
   ]
  },
  {
   "cell_type": "code",
   "execution_count": 16,
   "metadata": {},
   "outputs": [],
   "source": [
    "# counting the number of sentences\n",
    "df['sentence_count'] = df[\"review\"].apply(lambda x: len(str(x).split(\".\")))"
   ]
  },
  {
   "cell_type": "code",
   "execution_count": 17,
   "metadata": {},
   "outputs": [],
   "source": [
    "# avg no. of sentences\n",
    "df['avg_sentence_lenght'] = df['word_count'] / df['sentence_count']"
   ]
  },
  {
   "cell_type": "code",
   "execution_count": 18,
   "metadata": {},
   "outputs": [
    {
     "data": {
      "text/html": [
       "<div>\n",
       "<style scoped>\n",
       "    .dataframe tbody tr th:only-of-type {\n",
       "        vertical-align: middle;\n",
       "    }\n",
       "\n",
       "    .dataframe tbody tr th {\n",
       "        vertical-align: top;\n",
       "    }\n",
       "\n",
       "    .dataframe thead th {\n",
       "        text-align: right;\n",
       "    }\n",
       "</style>\n",
       "<table border=\"1\" class=\"dataframe\">\n",
       "  <thead>\n",
       "    <tr style=\"text-align: right;\">\n",
       "      <th></th>\n",
       "      <th>review</th>\n",
       "      <th>sentiment</th>\n",
       "      <th>scores</th>\n",
       "      <th>compound</th>\n",
       "      <th>com_score</th>\n",
       "      <th>word_count</th>\n",
       "      <th>sentence_count</th>\n",
       "      <th>avg_sentence_lenght</th>\n",
       "    </tr>\n",
       "  </thead>\n",
       "  <tbody>\n",
       "    <tr>\n",
       "      <th>17508</th>\n",
       "      <td>hindi version film 121 minute set bengal early...</td>\n",
       "      <td>positive</td>\n",
       "      <td>{'neg': 0.017, 'neu': 0.696, 'pos': 0.286, 'co...</td>\n",
       "      <td>0.9643</td>\n",
       "      <td>positive</td>\n",
       "      <td>60</td>\n",
       "      <td>1</td>\n",
       "      <td>60.0</td>\n",
       "    </tr>\n",
       "    <tr>\n",
       "      <th>33467</th>\n",
       "      <td>went see ashura 2005 fantasia festival kickoff...</td>\n",
       "      <td>positive</td>\n",
       "      <td>{'neg': 0.111, 'neu': 0.574, 'pos': 0.315, 'co...</td>\n",
       "      <td>0.9942</td>\n",
       "      <td>positive</td>\n",
       "      <td>198</td>\n",
       "      <td>1</td>\n",
       "      <td>198.0</td>\n",
       "    </tr>\n",
       "    <tr>\n",
       "      <th>10577</th>\n",
       "      <td>remake 1962 orginal film book good part commen...</td>\n",
       "      <td>negative</td>\n",
       "      <td>{'neg': 0.108, 'neu': 0.658, 'pos': 0.234, 'co...</td>\n",
       "      <td>0.9648</td>\n",
       "      <td>positive</td>\n",
       "      <td>149</td>\n",
       "      <td>1</td>\n",
       "      <td>149.0</td>\n",
       "    </tr>\n",
       "    <tr>\n",
       "      <th>40310</th>\n",
       "      <td>become quite fond laurence olivier past week t...</td>\n",
       "      <td>positive</td>\n",
       "      <td>{'neg': 0.073, 'neu': 0.482, 'pos': 0.445, 'co...</td>\n",
       "      <td>0.9859</td>\n",
       "      <td>positive</td>\n",
       "      <td>63</td>\n",
       "      <td>1</td>\n",
       "      <td>63.0</td>\n",
       "    </tr>\n",
       "    <tr>\n",
       "      <th>24252</th>\n",
       "      <td>tsui hark experiment nothing one withstand leg...</td>\n",
       "      <td>positive</td>\n",
       "      <td>{'neg': 0.045, 'neu': 0.606, 'pos': 0.349, 'co...</td>\n",
       "      <td>0.9873</td>\n",
       "      <td>positive</td>\n",
       "      <td>85</td>\n",
       "      <td>1</td>\n",
       "      <td>85.0</td>\n",
       "    </tr>\n",
       "  </tbody>\n",
       "</table>\n",
       "</div>"
      ],
      "text/plain": [
       "                                                  review sentiment  \\\n",
       "17508  hindi version film 121 minute set bengal early...  positive   \n",
       "33467  went see ashura 2005 fantasia festival kickoff...  positive   \n",
       "10577  remake 1962 orginal film book good part commen...  negative   \n",
       "40310  become quite fond laurence olivier past week t...  positive   \n",
       "24252  tsui hark experiment nothing one withstand leg...  positive   \n",
       "\n",
       "                                                  scores  compound com_score  \\\n",
       "17508  {'neg': 0.017, 'neu': 0.696, 'pos': 0.286, 'co...    0.9643  positive   \n",
       "33467  {'neg': 0.111, 'neu': 0.574, 'pos': 0.315, 'co...    0.9942  positive   \n",
       "10577  {'neg': 0.108, 'neu': 0.658, 'pos': 0.234, 'co...    0.9648  positive   \n",
       "40310  {'neg': 0.073, 'neu': 0.482, 'pos': 0.445, 'co...    0.9859  positive   \n",
       "24252  {'neg': 0.045, 'neu': 0.606, 'pos': 0.349, 'co...    0.9873  positive   \n",
       "\n",
       "       word_count  sentence_count  avg_sentence_lenght  \n",
       "17508          60               1                 60.0  \n",
       "33467         198               1                198.0  \n",
       "10577         149               1                149.0  \n",
       "40310          63               1                 63.0  \n",
       "24252          85               1                 85.0  "
      ]
     },
     "execution_count": 18,
     "metadata": {},
     "output_type": "execute_result"
    }
   ],
   "source": [
    "df.sample(5)"
   ]
  },
  {
   "cell_type": "code",
   "execution_count": 21,
   "metadata": {},
   "outputs": [
    {
     "data": {
      "image/png": "[encoded data removed]",
      "text/plain": [
       "<Figure size 432x288 with 1 Axes>"
      ]
     },
     "metadata": {
      "needs_background": "light"
     },
     "output_type": "display_data"
    }
   ],
   "source": [
    "wc = WordCloud(width = 1000, height = 1000, background_color= 'white')\n",
    "wc = wc.generate(str(corpus))\n",
    "fig = plt.figure(num=1)\n",
    "plt.axis('off')\n",
    "plt.imshow(wc, cmap=None)\n",
    "plt.show()"
   ]
  },
  {
   "cell_type": "markdown",
   "metadata": {},
   "source": [
    "### Splitting the data"
   ]
  },
  {
   "cell_type": "code",
   "execution_count": 23,
   "metadata": {},
   "outputs": [],
   "source": [
    "X = df['review']\n",
    "y = df['sentiment']"
   ]
  },
  {
   "cell_type": "code",
   "execution_count": 24,
   "metadata": {},
   "outputs": [],
   "source": [
    "X_train, X_test, y_train, y_test = train_test_split(X,y, test_size = 0.2, random_state = 42)"
   ]
  },
  {
   "cell_type": "code",
   "execution_count": 25,
   "metadata": {},
   "outputs": [
    {
     "data": {
      "text/plain": [
       "((40000,), (10000,), (40000,), (10000,))"
      ]
     },
     "execution_count": 25,
     "metadata": {},
     "output_type": "execute_result"
    }
   ],
   "source": [
    "X_train.shape, X_test.shape, y_train.shape, y_test.shape "
   ]
  },
  {
   "cell_type": "markdown",
   "metadata": {},
   "source": [
    "** Now the data has been split into training and testing set\n",
    "* **Training** set contains 80% of the data\n",
    "* **Test** set contains 20% of the data"
   ]
  },
  {
   "cell_type": "markdown",
   "metadata": {},
   "source": [
    "**Pipelines is list of tuples where we can pass parameter and finally encapsulate into object 'text_clf'**\n",
    "**Now I'm using Pipeline to encapsulate the TD-IDF and Classifier to train the classifier**\n",
    "* TD-IDF transforms the words into a usable vector"
   ]
  },
  {
   "cell_type": "code",
   "execution_count": 27,
   "metadata": {},
   "outputs": [],
   "source": [
    "text_clf = Pipeline([('tfidf', TfidfVectorizer()) , ('clf' , LinearSVC())])"
   ]
  },
  {
   "cell_type": "code",
   "execution_count": 28,
   "metadata": {},
   "outputs": [
    {
     "data": {
      "text/plain": [
       "Pipeline(steps=[('tfidf', TfidfVectorizer()), ('clf', LinearSVC())])"
      ]
     },
     "execution_count": 28,
     "metadata": {},
     "output_type": "execute_result"
    }
   ],
   "source": [
    "text_clf.fit(X_train,y_train)"
   ]
  },
  {
   "cell_type": "code",
   "execution_count": 29,
   "metadata": {},
   "outputs": [],
   "source": [
    "predictions = text_clf.predict(X_test)"
   ]
  },
  {
   "cell_type": "code",
   "execution_count": 30,
   "metadata": {},
   "outputs": [
    {
     "name": "stdout",
     "output_type": "stream",
     "text": [
      "Classification Report: \n",
      "               precision    recall  f1-score   support\n",
      "\n",
      "    negative       0.90      0.88      0.89      4961\n",
      "    positive       0.89      0.91      0.90      5039\n",
      "\n",
      "    accuracy                           0.90     10000\n",
      "   macro avg       0.90      0.90      0.90     10000\n",
      "weighted avg       0.90      0.90      0.90     10000\n",
      "\n",
      "Confusion Matrix: \n",
      " [[4386  575]\n",
      " [ 471 4568]]\n"
     ]
    }
   ],
   "source": [
    "print('Classification Report:', '\\n',classification_report(y_test, predictions))\n",
    "print('Confusion Matrix:', '\\n', confusion_matrix(y_test, predictions))"
   ]
  },
  {
   "cell_type": "code",
   "execution_count": 31,
   "metadata": {},
   "outputs": [
    {
     "name": "stdout",
     "output_type": "stream",
     "text": [
      "Accuracy: 0.8954\n"
     ]
    }
   ],
   "source": [
    "print('Accuracy:',accuracy_score(y_test, predictions))"
   ]
  },
  {
   "cell_type": "code",
   "execution_count": 32,
   "metadata": {},
   "outputs": [
    {
     "data": {
      "text/html": [
       "<div>\n",
       "<style scoped>\n",
       "    .dataframe tbody tr th:only-of-type {\n",
       "        vertical-align: middle;\n",
       "    }\n",
       "\n",
       "    .dataframe tbody tr th {\n",
       "        vertical-align: top;\n",
       "    }\n",
       "\n",
       "    .dataframe thead th {\n",
       "        text-align: right;\n",
       "    }\n",
       "</style>\n",
       "<table border=\"1\" class=\"dataframe\">\n",
       "  <thead>\n",
       "    <tr style=\"text-align: right;\">\n",
       "      <th></th>\n",
       "      <th>Actual</th>\n",
       "      <th>Predicted</th>\n",
       "    </tr>\n",
       "  </thead>\n",
       "  <tbody>\n",
       "    <tr>\n",
       "      <th>4241</th>\n",
       "      <td>positive</td>\n",
       "      <td>negative</td>\n",
       "    </tr>\n",
       "    <tr>\n",
       "      <th>17407</th>\n",
       "      <td>negative</td>\n",
       "      <td>negative</td>\n",
       "    </tr>\n",
       "    <tr>\n",
       "      <th>47248</th>\n",
       "      <td>negative</td>\n",
       "      <td>negative</td>\n",
       "    </tr>\n",
       "    <tr>\n",
       "      <th>14013</th>\n",
       "      <td>positive</td>\n",
       "      <td>positive</td>\n",
       "    </tr>\n",
       "    <tr>\n",
       "      <th>38929</th>\n",
       "      <td>negative</td>\n",
       "      <td>negative</td>\n",
       "    </tr>\n",
       "    <tr>\n",
       "      <th>9008</th>\n",
       "      <td>positive</td>\n",
       "      <td>positive</td>\n",
       "    </tr>\n",
       "    <tr>\n",
       "      <th>36044</th>\n",
       "      <td>positive</td>\n",
       "      <td>positive</td>\n",
       "    </tr>\n",
       "    <tr>\n",
       "      <th>30696</th>\n",
       "      <td>negative</td>\n",
       "      <td>negative</td>\n",
       "    </tr>\n",
       "    <tr>\n",
       "      <th>42424</th>\n",
       "      <td>negative</td>\n",
       "      <td>positive</td>\n",
       "    </tr>\n",
       "    <tr>\n",
       "      <th>26185</th>\n",
       "      <td>negative</td>\n",
       "      <td>negative</td>\n",
       "    </tr>\n",
       "  </tbody>\n",
       "</table>\n",
       "</div>"
      ],
      "text/plain": [
       "         Actual Predicted\n",
       "4241   positive  negative\n",
       "17407  negative  negative\n",
       "47248  negative  negative\n",
       "14013  positive  positive\n",
       "38929  negative  negative\n",
       "9008   positive  positive\n",
       "36044  positive  positive\n",
       "30696  negative  negative\n",
       "42424  negative  positive\n",
       "26185  negative  negative"
      ]
     },
     "execution_count": 32,
     "metadata": {},
     "output_type": "execute_result"
    }
   ],
   "source": [
    "test_res = pd.DataFrame( {\"Actual\" : y_test, \"Predicted\" : predictions})\n",
    "test_res.sample(10)"
   ]
  },
  {
   "cell_type": "code",
   "execution_count": 33,
   "metadata": {},
   "outputs": [],
   "source": [
    "con_mat = confusion_matrix(y_test, predictions)"
   ]
  },
  {
   "cell_type": "code",
   "execution_count": 34,
   "metadata": {},
   "outputs": [
    {
     "data": {
      "text/plain": [
       "<AxesSubplot:>"
      ]
     },
     "execution_count": 34,
     "metadata": {},
     "output_type": "execute_result"
    },
    {
     "data": {
      "image/png": "[encoded data removed]",
      "text/plain": [
       "<Figure size 432x288 with 2 Axes>"
      ]
     },
     "metadata": {
      "needs_background": "light"
     },
     "output_type": "display_data"
    }
   ],
   "source": [
    "sns.heatmap(con_mat, annot = True,cbar =True)"
   ]
  },
  {
   "cell_type": "markdown",
   "metadata": {},
   "source": [
    "***References:***https://developpaper.com/text-analysis-and-feature-engineering-of-nlp"
   ]
  },
  {
   "cell_type": "markdown",
   "metadata": {},
   "source": [
    "**Machine Leanrning - *TOM MITCHELL* ch: Support Vector Machines**"
   ]
  },
  {
   "cell_type": "markdown",
   "metadata": {},
   "source": [
    "### CLASSIFICATION REPORT\n",
    "* Here we can observe how well, classifier has assigned each review to the set of pre-defined categories. To sum up, IMDB Dataset has 50,000 reviews, among which training data (40,000) and testing data (40,000) after train test split on 80-20 ratio.\n",
    "* 4386 reviews were correctly classified as positive\n",
    "* 4568 reviews were also correctly classified as negative\n",
    "* 1046 reviews were misclassified.\n",
    "* Overall, the text classification is good with 89.54 % accuracy and I feel that this accuracy can further be increased compared to the manually labelled reviews. by identifying the best hyper parameters through tuning (GridSearch CV) as to what constitutes relevant classification (positive or negative)."
   ]
  },
  {
   "cell_type": "code",
   "execution_count": null,
   "metadata": {},
   "outputs": [],
   "source": []
  }
 ],
 "metadata": {
  "kernelspec": {
   "display_name": "Python 3",
   "language": "python",
   "name": "python3"
  },
  "language_info": {
   "codemirror_mode": {
    "name": "ipython",
    "version": 3
   },
   "file_extension": ".py",
   "mimetype": "text/x-python",
   "name": "python",
   "nbconvert_exporter": "python",
   "pygments_lexer": "ipython3",
   "version": "3.8.5"
  }
 },
 "nbformat": 4,
 "nbformat_minor": 4
}
